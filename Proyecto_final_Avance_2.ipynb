{
  "nbformat": 4,
  "nbformat_minor": 0,
  "metadata": {
    "colab": {
      "provenance": [],
      "authorship_tag": "ABX9TyOzBCBqQ+e8pHbVx5O/ERCN",
      "include_colab_link": true
    },
    "kernelspec": {
      "name": "python3",
      "display_name": "Python 3"
    },
    "language_info": {
      "name": "python"
    }
  },
  "cells": [
    {
      "cell_type": "markdown",
      "metadata": {
        "id": "view-in-github",
        "colab_type": "text"
      },
      "source": [
        "<a href=\"https://colab.research.google.com/github/PosgradoMNA/actividades-del-projecto-equipo-35/blob/main/Proyecto_final_Avance_2.ipynb\" target=\"_parent\"><img src=\"https://colab.research.google.com/assets/colab-badge.svg\" alt=\"Open In Colab\"/></a>"
      ]
    },
    {
      "cell_type": "markdown",
      "source": [
        "#**Proyecto final - Avance 2**\n",
        "Maestría en Inteligencia Artificial Aplicada\n",
        "\n",
        "Curso: Ciencia y analítica de datos\n",
        "\n",
        "Tecnológico de Monterrey\n",
        "\n",
        "\n",
        "**Profesor Titular:**\n",
        "- Jobish Vallikavungal Devassia\n",
        "\n",
        "**Profesor Tutor:**\n",
        "- Roberto Antonio Guevara González\n",
        "\n",
        "**Nombre de los estudiantes:**\n",
        "- Alejandra Mendoza Flores - A01793032\n",
        "- Fernando Sebastian Sanchez Cardona - A01687530\n"
      ],
      "metadata": {
        "id": "4QnuZJVoq4sC"
      }
    },
    {
      "cell_type": "markdown",
      "source": [
        "# **Pasos estándares por cada fase**\n",
        "\n",
        "Durante el proyecto hemos tomado la decisión implementar la metodología CRISP-DM Reference Model. Adicionalmente, nos basaremos en metodologías ágiles para poder complementarlo.\n",
        "\n",
        "\n",
        "\n",
        "**Business Understanding**\n",
        "- Centrar los objetivos y requisitos del proyecto\n",
        "- Analizar el problema\n",
        "- Gestión de las actividades a realizar\n",
        "\n",
        "**Data Understanding**\n",
        "- Identificar los datos necesarios\n",
        "- Obtener los dataset\n",
        "- Gestionar la calidad de los datos\n",
        "\n",
        "**Data Preparation**\n",
        "- Integración y agregación de datos\n",
        "- Filtrado de datos\n",
        "- Muestreo de datos\n",
        "\n",
        "**Modeling**\n",
        "- Aplicar técnicas de modelos de datos para determinar los algoritmos que se ocuparán\n",
        "- Testear el diseño de los datos modelados\n",
        "- Construir el diseño de los datos modelados\n",
        "\n",
        "**Evaluation**\n",
        "- Validad los resultados\n",
        "- Revisión de los procesos\n",
        "- Determinar los próximos pasos\n",
        "\n",
        "**Deployment**\n",
        "- Realizar un plan para el despliegue del modelo\n",
        "- Monitoreo de la infraestructura del modelo\n",
        "- Producción del reporte final y revisión del proyecto para realizar mejoras"
      ],
      "metadata": {
        "id": "XuZMRvR0j-v4"
      }
    },
    {
      "cell_type": "markdown",
      "source": [
        "# **Miro**\n",
        "Diagrama de la metodología CRISP-DM Reference Model en Miro:\n",
        "\n",
        "https://miro.com/welcomeonboard/a240d0pWSnNTT0NzcDhjNTdlV055S21sQnVSdUZDRnJ5VTlZOGRrYmhRakxxUkhtUGhnYVdLbkp0RXpaaDlweXwzNDU4NzY0NTMwMTAzMTU1ODE2fDI=?share_link_id=136317871811"
      ],
      "metadata": {
        "id": "Y2sAbBCRzq8r"
      }
    }
  ]
}