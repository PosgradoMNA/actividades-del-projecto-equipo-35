{
  "nbformat": 4,
  "nbformat_minor": 0,
  "metadata": {
    "colab": {
      "provenance": [],
      "authorship_tag": "ABX9TyM4v00WP+juOJS5ghak7+t2",
      "include_colab_link": true
    },
    "kernelspec": {
      "name": "python3",
      "display_name": "Python 3"
    },
    "language_info": {
      "name": "python"
    }
  },
  "cells": [
    {
      "cell_type": "markdown",
      "metadata": {
        "id": "view-in-github",
        "colab_type": "text"
      },
      "source": [
        "<a href=\"https://colab.research.google.com/github/PosgradoMNA/actividades-del-projecto-equipo-35/blob/main/Proyecto_final_Avance1.ipynb\" target=\"_parent\"><img src=\"https://colab.research.google.com/assets/colab-badge.svg\" alt=\"Open In Colab\"/></a>"
      ]
    },
    {
      "cell_type": "markdown",
      "source": [
        "**- El nombre que caracteriza el conjunto de datos.**\n",
        "Ofertas de Airbnb en Nueva York\n",
        "\n",
        "\n",
        "\n",
        "\n",
        "**- La organización que lo generó.**\n",
        "\n",
        "Public Tableau y Inside Airbnb\n",
        "\n",
        "\n",
        "\n",
        "\n",
        "**- Incluya un enlace de Internet donde se puedan descargar en línea y enviar como una hoja de cálculo junto con su informe correspondiente.**\n",
        "\n",
        "https://public.tableau.com/app/resources/sample-data\n",
        "http://insideairbnb.com/get-the-data/\n",
        "https://drive.google.com/drive/folders/1fLyiDBs10QUU-W0LMdQFHDboAj69gSKV?usp=sharing\n",
        "\n",
        "\n",
        "\n",
        "\n",
        "**- Describe el conjunto de datos. ¿Qué datos contiene?**\n",
        "\n",
        "Contiene información sobre 30 478 ofertas de Airbnb en Nueva York.\n",
        "\n",
        "\n",
        "\n",
        "\n",
        "\n",
        "**- ¿Cuáles son algunas de las preguntas de investigación que podría responder con estos datos? Enumere al menos OCHO (no responda las preguntas).**\n",
        "\n",
        "1. ¿Cuáles son la zonas más populares dentro de Nueva York?\n",
        "\n",
        "\n",
        "2. ¿Cuáles son las fechas más demandadas?\n",
        "\n",
        "\n",
        "3. Cuáles son las ofertas más demandadas?\n",
        "\n",
        "\n",
        "4. ¿Cuáles son los alojamientos más caros? \n",
        "\n",
        "\n",
        "5. ¿Qué tipos de alojamientos se prefieren?\n",
        "\n",
        "\n",
        "6. ¿Cuáles son los alojamientos más comentados?\n",
        "\n",
        "\n",
        "7. ¿Cuántos cuartos tienden a tener los alojamientos más solicitados?\n",
        "\n",
        "\n",
        "8. ¿Qué tipo de alojamientos prefieren los usuarios?\n",
        "\n",
        "\n",
        "\n",
        "\n",
        "**¿Qué actor (empresa, sector de la sociedad, organismo descentralizado, gobierno, etc.) estaría interesado en las preguntas mencionadas que identificó?**\n",
        "  - Airbnb\n",
        "  - Arrendador independiente\n",
        "  - Hoteles\n",
        "  - Hostales\n",
        "  - Agencia de viajes\n",
        "  - Empresas de entretenimiento y gastronómicas"
      ],
      "metadata": {
        "id": "lKAN02oWVOcy"
      }
    }
  ]
}